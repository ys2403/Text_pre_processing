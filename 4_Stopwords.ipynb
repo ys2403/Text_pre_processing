{
 "cells": [
  {
   "cell_type": "code",
   "execution_count": 2,
   "metadata": {},
   "outputs": [],
   "source": [
    "Paragraph = \"\"\"I have three visions for India. In 3000 years of our history, people from all over the world have come and invaded us, captured our lands, conquered our minds. From Alexander onwards, the Greeks, the Turks, the Moguls, the Portuguese, the British,the French, the Dutch, all of them came and looted us, took over what was ours. Yet we have not done this to any other nation. We have not conquered anyone. We have not grabbed their land, their culture,their history and tried to enforce our way of life on them. \"\"\""
   ]
  },
  {
   "cell_type": "code",
   "execution_count": 3,
   "metadata": {},
   "outputs": [],
   "source": [
    "import nltk \n",
    "from nltk.tokenize import sent_tokenize\n"
   ]
  },
  {
   "cell_type": "code",
   "execution_count": 4,
   "metadata": {},
   "outputs": [
    {
     "name": "stdout",
     "output_type": "stream",
     "text": [
      "['I have three visions for India.', 'In 3000 years of our history, people from all over the world have come and invaded us, captured our lands, conquered our minds.', 'From Alexander onwards, the Greeks, the Turks, the Moguls, the Portuguese, the British,the French, the Dutch, all of them came and looted us, took over what was ours.', 'Yet we have not done this to any other nation.', 'We have not conquered anyone.', 'We have not grabbed their land, their culture,their history and tried to enforce our way of life on them.']\n"
     ]
    }
   ],
   "source": [
    "sentences = nltk.sent_tokenize(Paragraph)\n",
    "print(sentences)"
   ]
  },
  {
   "cell_type": "code",
   "execution_count": 12,
   "metadata": {},
   "outputs": [
    {
     "name": "stdout",
     "output_type": "stream",
     "text": [
      " I have three visions for India.\n",
      "In 3000 years of our history, people from all over the world have come and invaded us, captured our lands, conquered our minds.\n",
      "From Alexander onwards, the Greeks, the Turks, the Moguls, the Portuguese, the British,the French, the Dutch, all of them came and looted us, took over what was ours.Yet we have not done this to any other nation.\n",
      "We have not conquered anyone.\n",
      "We have not grabbed their land, their culture,their history and tried to enforce our way of life on them.\n"
     ]
    }
   ],
   "source": [
    "for s in sentences:\n",
    "    print(s)"
   ]
  },
  {
   "cell_type": "code",
   "execution_count": 6,
   "metadata": {},
   "outputs": [
    {
     "name": "stderr",
     "output_type": "stream",
     "text": [
      "[nltk_data] Downloading package stopwords to\n",
      "[nltk_data]     C:\\Users\\Ys\\AppData\\Roaming\\nltk_data...\n",
      "[nltk_data]   Package stopwords is already up-to-date!\n"
     ]
    },
    {
     "data": {
      "text/plain": [
       "True"
      ]
     },
     "execution_count": 6,
     "metadata": {},
     "output_type": "execute_result"
    }
   ],
   "source": [
    "import nltk \n",
    "from nltk.corpus import stopwords\n",
    "nltk.download('stopwords')"
   ]
  },
  {
   "cell_type": "code",
   "execution_count": 41,
   "metadata": {},
   "outputs": [
    {
     "name": "stdout",
     "output_type": "stream",
     "text": [
      "I have three visions for India.\n",
      "In 3000 years of our history, people from all over the world have come and invaded us, captured our lands, conquered our minds.\n",
      "From Alexander onwards, the Greeks, the Turks, the Moguls, the Portuguese, the British,the French, the Dutch, all of them came and looted us, took over what was ours.\n",
      "Yet we have not done this to any other nation.\n",
      "We have not conquered anyone.\n",
      "We have not grabbed their land, their culture,their history and tried to enforce our way of life on them.\n",
      "\n",
      "After Preprocessing\n",
      "\n",
      "i three vision india .\n",
      "in 3000 year histori , peopl world come invad us , captur land , conquer mind .\n",
      "from alexand onward , greek , turk , mogul , portugues , british , french , dutch , came loot us , took .\n",
      "yet done nation .\n",
      "we conquer anyon .\n",
      "we grab land , cultur , histori tri enforc way life .\n"
     ]
    }
   ],
   "source": [
    "from nltk import PorterStemmer\n",
    "porter = PorterStemmer()\n",
    "\n",
    "for i in sentences:\n",
    "    print(i)\n",
    "porter_sent = []\n",
    "for i in range(len(sentences)):\n",
    "    words = nltk.word_tokenize(sentences[i])\n",
    "    #print(words)\n",
    "    new_words = [porter.stem(word) for word in words if word not in set(stopwords.words('english'))]\n",
    "    #print(new_words)\n",
    "\n",
    "    #print('')\n",
    "    porter_sent.append(' '.join(new_words))\n",
    "print ('')\n",
    "print('After Preprocessing')\n",
    "print('')\n",
    "for p in porter_sent:\n",
    "    print(p)"
   ]
  },
  {
   "cell_type": "code",
   "execution_count": 43,
   "metadata": {},
   "outputs": [
    {
     "name": "stdout",
     "output_type": "stream",
     "text": [
      "I have three visions for India.\n",
      "In 3000 years of our history, people from all over the world have come and invaded us, captured our lands, conquered our minds.\n",
      "From Alexander onwards, the Greeks, the Turks, the Moguls, the Portuguese, the British,the French, the Dutch, all of them came and looted us, took over what was ours.\n",
      "Yet we have not done this to any other nation.\n",
      "We have not conquered anyone.\n",
      "We have not grabbed their land, their culture,their history and tried to enforce our way of life on them.\n",
      "\n",
      "After Preprocessing\n",
      "\n",
      "i three vision india .\n",
      "in 3000 year histori , peopl world come invad us , captur land , conquer mind .\n",
      "from alexand onward , greek , turk , mogul , portugues , british , french , dutch , came loot us , took .\n",
      "yet done nation .\n",
      "we conquer anyon .\n",
      "we grab land , cultur , histori tri enforc way life .\n"
     ]
    }
   ],
   "source": [
    "from nltk import SnowballStemmer\n",
    "snowball = SnowballStemmer('english')\n",
    "\n",
    "for i in sentences:\n",
    "    print(i)\n",
    "snowball_sent = []\n",
    "for i in range(len(sentences)):\n",
    "    words = nltk.word_tokenize(sentences[i])\n",
    "    #print(words)\n",
    "    new_words = [snowball.stem(word) for word in words if word not in set(stopwords.words('english'))]\n",
    "    #print(new_words)\n",
    "\n",
    "    #print('')\n",
    "    snowball_sent.append(' '.join(new_words))\n",
    "print ('')\n",
    "print('After Preprocessing')\n",
    "print('')\n",
    "for p in snowball_sent:\n",
    "    print(p)"
   ]
  },
  {
   "cell_type": "code",
   "execution_count": 46,
   "metadata": {},
   "outputs": [
    {
     "name": "stdout",
     "output_type": "stream",
     "text": [
      "I have three visions for India.\n",
      "In 3000 years of our history, people from all over the world have come and invaded us, captured our lands, conquered our minds.\n",
      "From Alexander onwards, the Greeks, the Turks, the Moguls, the Portuguese, the British,the French, the Dutch, all of them came and looted us, took over what was ours.\n",
      "Yet we have not done this to any other nation.\n",
      "We have not conquered anyone.\n",
      "We have not grabbed their land, their culture,their history and tried to enforce our way of life on them.\n",
      "\n",
      "After Preprocessing\n",
      "\n",
      "i three vision india .\n",
      "in 3000 year history , people world come invaded u , captured land , conquered mind .\n",
      "from alexander onwards , greeks , turks , moguls , portuguese , british , french , dutch , came looted u , took .\n",
      "yet done nation .\n",
      "we conquered anyone .\n",
      "we grabbed land , culture , history tried enforce way life .\n"
     ]
    }
   ],
   "source": [
    "from nltk.stem import WordNetLemmatizer\n",
    "lemmatizer=WordNetLemmatizer()\n",
    "\n",
    "for i in sentences:\n",
    "    print(i)\n",
    "lemmatizer_sent = []\n",
    "for i in range(len(sentences)):\n",
    "    words = nltk.word_tokenize(sentences[i])\n",
    "    #print(words)\n",
    "    new_words = [lemmatizer.lemmatize(word).lower() for word in words if word not in set(stopwords.words('english'))]\n",
    "    #print(new_words)\n",
    "\n",
    "    #print('')\n",
    "    lemmatizer_sent.append(' '.join(new_words))\n",
    "print ('')\n",
    "print('After Preprocessing')\n",
    "print('')\n",
    "for p in lemmatizer_sent:\n",
    "    print(p)"
   ]
  },
  {
   "cell_type": "code",
   "execution_count": 7,
   "metadata": {},
   "outputs": [
    {
     "name": "stdout",
     "output_type": "stream",
     "text": [
      "I have three visions for India.\n",
      "In 3000 years of our history, people from all over the world have come and invaded us, captured our lands, conquered our minds.\n",
      "From Alexander onwards, the Greeks, the Turks, the Moguls, the Portuguese, the British,the French, the Dutch, all of them came and looted us, took over what was ours.\n",
      "Yet we have not done this to any other nation.\n",
      "We have not conquered anyone.\n",
      "We have not grabbed their land, their culture,their history and tried to enforce our way of life on them.\n",
      "\n",
      "After Preprocessing\n",
      "\n",
      "i three visions india .\n",
      "in 3000 years history , people world come invade us , capture land , conquer mind .\n",
      "from alexander onwards , greeks , turks , moguls , portuguese , british , french , dutch , come loot us , take .\n",
      "yet do nation .\n",
      "we conquer anyone .\n",
      "we grab land , culture , history try enforce way life .\n"
     ]
    }
   ],
   "source": [
    "from nltk.stem import WordNetLemmatizer\n",
    "lemmatizer=WordNetLemmatizer()\n",
    "\n",
    "for i in sentences:\n",
    "    print(i)\n",
    "lemmatizer_sent = []\n",
    "for i in range(len(sentences)):\n",
    "    words = nltk.word_tokenize(sentences[i])\n",
    "    #print(words)\n",
    "    new_words = [lemmatizer.lemmatize(word, pos='v').lower() for word in words if word not in set(stopwords.words('english'))]\n",
    "    #print(new_words)\n",
    "\n",
    "    #print('')\n",
    "    lemmatizer_sent.append(' '.join(new_words))\n",
    "print ('')\n",
    "print('After Preprocessing')\n",
    "print('')\n",
    "for p in lemmatizer_sent:\n",
    "    print(p)"
   ]
  },
  {
   "cell_type": "code",
   "execution_count": null,
   "metadata": {},
   "outputs": [],
   "source": []
  }
 ],
 "metadata": {
  "kernelspec": {
   "display_name": "Python 3",
   "language": "python",
   "name": "python3"
  },
  "language_info": {
   "codemirror_mode": {
    "name": "ipython",
    "version": 3
   },
   "file_extension": ".py",
   "mimetype": "text/x-python",
   "name": "python",
   "nbconvert_exporter": "python",
   "pygments_lexer": "ipython3",
   "version": "3.12.3"
  }
 },
 "nbformat": 4,
 "nbformat_minor": 2
}
